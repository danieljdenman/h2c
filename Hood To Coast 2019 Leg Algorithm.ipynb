{
 "cells": [
  {
   "cell_type": "code",
   "execution_count": 187,
   "metadata": {},
   "outputs": [],
   "source": [
    "#written 12 July 2016 by djd.\n",
    "#updated for h2c 2019 (and python 3.7) 29 July 2019 by djd.\n",
    "import numpy as np\n",
    "import matplotlib.pyplot as plt\n",
    "import random\n",
    "import copy\n",
    "%matplotlib inline"
   ]
  },
  {
   "cell_type": "markdown",
   "metadata": {},
   "source": [
    "<div style=\"font-size:12pt;color:#000000\"><strong> difficulty ratings for 4 leg sets</strong></div>"
   ]
  },
  {
   "cell_type": "code",
   "execution_count": 75,
   "metadata": {},
   "outputs": [],
   "source": [
    "difficulty= [4,3,1,2,4,3,2,1,2,2,1,2,1,2,3,1,2,3,4,4,2,3,1,1,1,3,2,1,4,2,2,2,3,1,3,2]\n",
    "distance  = [5.44,5.64,4.66,7.18,6.05,7.1,5.25,6.0,5.38,5.54,5.0,6.4,4.49,6.04,7.25,3.92,7.83,5.23,5.89,5.75,5.06,6.7,4.23,4.87,3.8,5.65,6.36,3.83,5.97,5.32,3.96,4.2,7.72,4.12,7.07,5.19]\n",
    "\n",
    "ratings = np.zeros(9)\n",
    "for runner,leg in assigned_legs.items():\n",
    "    dist_ = distance[(leg-1)::9]\n",
    "    diff = difficulty[(leg-1)::9]\n",
    "    ratings[leg-1] = sum(np.array(dist_)*(np.array(diff)/2.))\n",
    "rank=np.argsort(ratings*-1)+1"
   ]
  },
  {
   "cell_type": "markdown",
   "metadata": {},
   "source": [
    "<div style=\"font-size:12pt;color:#999999\"> </div>\n",
    "<div style=\"font-size:14pt;color:#000000\">Hood To Coast 2019</div>\n",
    "<div style=\"font-size:14pt;color:#000000\"><strong>Leg Assigments for Team Midwest Express</strong></div>"
   ]
  },
  {
   "cell_type": "markdown",
   "metadata": {},
   "source": [
    "<div style=\"font-size:14pt;color:#000000\">based on stated preferences:</div>"
   ]
  },
  {
   "cell_type": "code",
   "execution_count": 199,
   "metadata": {},
   "outputs": [
    {
     "data": {
      "image/png": "[encoded data removed]",
      "text/plain": [
       "<Figure size 432x288 with 1 Axes>"
      ]
     },
     "metadata": {},
     "output_type": "display_data"
    }
   ],
   "source": [
    "legs=[1,2,3,4,5,6,7,8,9]\n",
    "preferences={'adam':[9,5,3],\n",
    "             'audrey':[5],# as requested\n",
    "             'chris':[6],# as requested\n",
    "             'dan':[2,6,8], # as specified \n",
    "             'emily':[3,1], # as requested\n",
    "             'jaro':[8,9,5], #smedium difficulty based on rank order list of difficulty computed for 4 leg sets\n",
    "             'rob':[5,4,3,1], # van 1, medium difficulty\n",
    "             'robert':[1,3],# as requested\n",
    "             'jayne':[7,4,3,1]} # as requested\n",
    "assigned_legs = assign_legs(legs,preferences)\n",
    "\n",
    "van_image = plt.imread('/Users/danieljdenman/Dropbox/notebooks/h2c_vans_empy-02.png')\n",
    "xpos = [300,300,300,450,450,450,600,600,600,460,460,460,610,610,610]\n",
    "ypos = [90,140,180,90,140,180,85,130,165,380,430,465,375,425,460]\n",
    "plt.imshow(van_image)\n",
    "\n",
    "for runner,leg in assigned_legs.items():\n",
    "    plt.text(xpos[leg-1], ypos[leg-1], str(leg)+': '+runner, ha='left', rotation=0)\n",
    "\n",
    "ax=plt.gca();ax.set_frame_on(False);ax.set_xticklabels('',visible=False);ax.set_xticks([]);ax.set_yticklabels('',visible=False);ax.set_yticks([])\n",
    "f=plt.title('Midwest Express')"
   ]
  },
  {
   "cell_type": "code",
   "execution_count": 190,
   "metadata": {},
   "outputs": [
    {
     "name": "stdout",
     "output_type": "stream",
     "text": [
      "dan: 22.36 miles  |  difficulty score: 34.40  |  rank: 2\n",
      "chris: 26.94 miles  |  difficulty score: 35.54  |  rank: 1\n",
      "audrey: 20.52 miles  |  difficulty score: 24.46  |  rank: 6\n",
      "jaro: 26.55 miles  |  difficulty score: 29.91  |  rank: 4\n",
      "adam: 22.16 miles  |  difficulty score: 24.78  |  rank: 5\n",
      "robert: 20.70 miles  |  difficulty score: 30.12  |  rank: 3\n",
      "rob: 22.33 miles  |  difficulty score: 23.44  |  rank: 7\n",
      "jayne: 17.09 miles  |  difficulty score: 11.17  |  rank: 9\n",
      "emily: 21.44 miles  |  difficulty score: 19.11  |  rank: 8\n"
     ]
    }
   ],
   "source": [
    "for runner,leg in assigned_legs.items():\n",
    "    dist_ = distance[(leg-1)::9]\n",
    "    diff = difficulty[(leg-1)::9]\n",
    "    diff_ = '%.2f'%(sum(np.array(dist_)*(np.array(diff)/2.)))\n",
    "    print(runner+': '+'%.2f'%(sum(dist_))+' miles  |  difficulty score: '+diff_+'  |  rank: '+str(np.where(rank==leg)[0][0]+1))"
   ]
  },
  {
   "cell_type": "markdown",
   "metadata": {},
   "source": [
    "for chris's practical joke on adam:"
   ]
  },
  {
   "cell_type": "code",
   "execution_count": 192,
   "metadata": {},
   "outputs": [],
   "source": [
    "assigned_legs_ = copy.copy(assigned_legs)\n",
    "assigned_legs_['adam']=6\n",
    "assigned_legs_['chris']=9"
   ]
  },
  {
   "cell_type": "code",
   "execution_count": 193,
   "metadata": {},
   "outputs": [
    {
     "data": {
      "text/plain": [
       "{'dan': 2,\n",
       " 'chris': 9,\n",
       " 'audrey': 5,\n",
       " 'jaro': 8,\n",
       " 'adam': 6,\n",
       " 'robert': 1,\n",
       " 'rob': 4,\n",
       " 'jayne': 7,\n",
       " 'emily': 3}"
      ]
     },
     "execution_count": 193,
     "metadata": {},
     "output_type": "execute_result"
    }
   ],
   "source": [
    "assigned_legs_"
   ]
  },
  {
   "cell_type": "code",
   "execution_count": 194,
   "metadata": {},
   "outputs": [
    {
     "data": {
      "image/png": "[encoded data removed]",
      "text/plain": [
       "<Figure size 432x288 with 1 Axes>"
      ]
     },
     "metadata": {},
     "output_type": "display_data"
    }
   ],
   "source": [
    "van_image = plt.imread('/Users/danieljdenman/Dropbox/notebooks/h2c_vans_empy-02.png')\n",
    "xpos = [300,300,300,450,450,450,600,600,600,460,460,460,610,610,610]\n",
    "ypos = [90,140,180,90,140,180,85,130,165,380,430,465,375,425,460]\n",
    "plt.imshow(van_image)\n",
    "\n",
    "for runner,leg in assigned_legs_.items():\n",
    "    plt.text(xpos[leg-1], ypos[leg-1], str(leg)+': '+runner, ha='left', rotation=0)\n",
    "\n",
    "ax=plt.gca();ax.set_frame_on(False);ax.set_xticklabels('',visible=False);ax.set_xticks([]);ax.set_yticklabels('',visible=False);ax.set_yticks([])\n",
    "f=plt.title('Midwest Express')"
   ]
  },
  {
   "cell_type": "code",
   "execution_count": 196,
   "metadata": {},
   "outputs": [
    {
     "name": "stdout",
     "output_type": "stream",
     "text": [
      "dan: 22.36 miles  |  difficulty score: 34.40  |  rank: 2\n",
      "chris: 22.16 miles  |  difficulty score: 24.78  |  rank: 5\n",
      "audrey: 20.52 miles  |  difficulty score: 24.46  |  rank: 6\n",
      "jaro: 26.55 miles  |  difficulty score: 29.91  |  rank: 4\n",
      "adam: 26.94 miles  |  difficulty score: 35.54  |  rank: 1\n",
      "robert: 20.70 miles  |  difficulty score: 30.12  |  rank: 3\n",
      "rob: 22.33 miles  |  difficulty score: 23.44  |  rank: 7\n",
      "jayne: 17.09 miles  |  difficulty score: 11.17  |  rank: 9\n",
      "emily: 21.44 miles  |  difficulty score: 19.11  |  rank: 8\n"
     ]
    }
   ],
   "source": [
    "for runner,leg in assigned_legs_.items():\n",
    "    dist_ = distance[(leg-1)::9]\n",
    "    diff = difficulty[(leg-1)::9]\n",
    "    diff_ = '%.2f'%(sum(np.array(dist_)*(np.array(diff)/2.)))\n",
    "    print(runner+': '+'%.2f'%(sum(dist_))+' miles  |  difficulty score: '+diff_+'  |  rank: '+str(np.where(rank==leg)[0][0]+1))"
   ]
  },
  {
   "cell_type": "markdown",
   "metadata": {},
   "source": [
    "<br></br>\n",
    "<br></br>\n",
    "<div style=\"font-size:12pt;color:#000000\">rank ordering of leg sets for a 9 runner team</div>"
   ]
  },
  {
   "cell_type": "code",
   "execution_count": 88,
   "metadata": {},
   "outputs": [],
   "source": [
    "generic_legs = {'runner 1':1,\n",
    "'runner 2':2,\n",
    "'runner 3':3,\n",
    "'runner 4':4,\n",
    "'runner 5':5,\n",
    "'runner 6':6,\n",
    "'runner 7':7,\n",
    "'runner 8':8,\n",
    "'runner 9':9,  }  "
   ]
  },
  {
   "cell_type": "code",
   "execution_count": 89,
   "metadata": {},
   "outputs": [
    {
     "name": "stdout",
     "output_type": "stream",
     "text": [
      "runner 1: 20.70 miles  |  difficulty score: 30.12  |  rank: 3\n",
      "runner 2: 22.36 miles  |  difficulty score: 34.40  |  rank: 2\n",
      "runner 3: 21.44 miles  |  difficulty score: 19.11  |  rank: 8\n",
      "runner 4: 22.33 miles  |  difficulty score: 23.44  |  rank: 7\n",
      "runner 5: 20.52 miles  |  difficulty score: 24.46  |  rank: 6\n",
      "runner 6: 26.94 miles  |  difficulty score: 35.54  |  rank: 1\n",
      "runner 7: 17.09 miles  |  difficulty score: 11.17  |  rank: 9\n",
      "runner 8: 26.55 miles  |  difficulty score: 29.91  |  rank: 4\n",
      "runner 9: 22.16 miles  |  difficulty score: 24.78  |  rank: 5\n"
     ]
    }
   ],
   "source": [
    "for runner,leg in generic_legs.items():\n",
    "    dist_ = distance[(leg-1)::9]\n",
    "    diff = difficulty[(leg-1)::9]\n",
    "    diff_ = '%.2f'%(sum(np.array(dist_)*(np.array(diff)/2.)))\n",
    "    print(runner+': '+'%.2f'%(sum(dist_))+' miles  |  difficulty score: '+diff_+'  |  rank: '+str(np.where(rank==leg)[0][0]+1))"
   ]
  },
  {
   "cell_type": "markdown",
   "metadata": {},
   "source": [
    "<br></br>\n",
    "<br></br>\n",
    "<br></br>\n",
    "<div style=\"font-size:14pt;color:#000000\">the algorithm used above:</div>"
   ]
  },
  {
   "cell_type": "code",
   "execution_count": 6,
   "metadata": {},
   "outputs": [],
   "source": [
    "def assign_legs(legs, preferences):\n",
    "    assigned_legs = {}\n",
    "\n",
    "    #first, deal with people who specified legs\n",
    "    runners = [list(preferences.keys())[i] for i,x in enumerate(preferences.values()) if x != None]\n",
    "\n",
    "    #randomly choosing who gets choice preference\n",
    "    random.shuffle(runners) \n",
    "\n",
    "    for runner in runners:\n",
    "        preferred_legs = preferences[runner]\n",
    "        for preference in preferred_legs:\n",
    "            if preference in legs:\n",
    "                assigned_legs[runner]=preference\n",
    "                legs.pop(int(np.where(np.array(legs)==preference)[0][0]))\n",
    "                break\n",
    "        if runner not in assigned_legs.keys():\n",
    "            print('could not assign '+runner+' a desired leg. assigned a leftover leg instead, sorry.')\n",
    "            preferences[runner]=None\n",
    "\n",
    "    #after that, give everybody else a random remaining leg\n",
    "    for runner in [list(preferences.keys())[i] for i,x in enumerate(preferences.values()) if x == None]:\n",
    "        leg = legs.pop(int(np.floor(np.random.rand()*len(legs))))\n",
    "        assigned_legs[runner]=int(leg)\n",
    "    \n",
    "    return assigned_legs\n",
    "\n"
   ]
  }
 ],
 "metadata": {
  "hide_input": false,
  "kernelspec": {
   "display_name": "Python 3",
   "language": "python",
   "name": "python3"
  },
  "language_info": {
   "codemirror_mode": {
    "name": "ipython",
    "version": 3
   },
   "file_extension": ".py",
   "mimetype": "text/x-python",
   "name": "python",
   "nbconvert_exporter": "python",
   "pygments_lexer": "ipython3",
   "version": "3.7.1"
  }
 },
 "nbformat": 4,
 "nbformat_minor": 2
}
